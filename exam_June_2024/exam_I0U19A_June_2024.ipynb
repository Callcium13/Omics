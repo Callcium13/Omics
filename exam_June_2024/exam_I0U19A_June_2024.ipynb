{
 "cells": [
  {
   "cell_type": "markdown",
   "id": "b81e7656",
   "metadata": {},
   "source": [
    "#  Exam I0U19A - Management of Large-Scale Omics Data\n",
    "\n",
    "June 2024\n",
    "\n",
    "**Note:** \n",
    "\n",
    "* The exam is open book and open internet. However the **use of any communication tool (phone, chat, mail, etc) is strictly forbidden!**\n",
    "* You are allowed to use Github during the exam - but do not post any comments.\n",
    "* You may use your phone ONLY for authentication purposes (to access toledo & the vcs)\n",
    "* For all questions - even if you cannot finish the question - please provide comments describing what you are plannning to do\n",
    "\n",
    "Exam will be evaluated based on this notebook & accompanying files uploaded to the Toledo Assignment. You will be expected to upload the following files:\n",
    "\n",
    "* The exam ipython notebook (`exam_I0U19A_June_2024.ipynb`) with your answers. (download using `Jupyter menu / File / Download`)\n",
    "* An HTML copy of above notebook (download using `Internet Browser menu / File / Save page as`)\n",
    "* Your new Snakemake file (`Snakefile`)\n",
    "* In general - **Make sure the plots you make are visible in this notebook before uploading to Toledo**\n",
    "   \n",
    "Please zip all files into one file with your r-number in the name: `rnumber.zip` - Note - Toledo does not allow the upload of .html files - so you must create an archive!\n",
    "\n",
    "**Note:** you will also be graded not only on the outcome of these exercises, but also on a number of criteria discussed during class, such as: writing resilient code; by running (simple) sanity checks; by properly documenting your code and decent visualizations.\n",
    "\n",
    "#### Preparation\n",
    "\n",
    "**Make sure you work on your exam in a dedicted work folder**\n",
    "\n",
    "Prior to starting the exam make sure you create a work folder:\n",
    "\n",
    "```\n",
    "mkdir -p $VSC_DATA/large_omics_exam_2024\n",
    "cd $VSC_DATA/large_omics_exam_2024\n",
    "```\n",
    "\n",
    "**Data required**\n",
    "\n",
    "Copy the data files to your work folder:\n",
    "\n",
    "```\n",
    "cd  $VSC_DATA/large_omics_exam_2024\n",
    "cp -r /staging/leuven/stg_00079/teaching/exam_June_2024/* .\n",
    "```\n",
    "\n",
    "Among these files you will find the ipython exam notebook (`exam_I0U19A_June_2024.ipynb`). Continue working there.\n",
    "\n",
    "\n",
    "**Terminal/Conda**\n",
    "\n",
    "Do your (CPU intensive) command line work in a VSC interactive session. Please do not take too many scores or memory. This command was sufficient for me:\n",
    "\n",
    "```\n",
    "srun -n 1 -c 2 --mem 4G --time=7:00:00 -A lp_edu_large_omics -p interactive --cluster wice --pty bash -l\n",
    "```\n",
    "\n",
    "For **all** command line work (including snakemake) - make sure you use the correct conda environment by running the following in your shell:\n",
    "\n",
    "    export PATH=/lustre1/project/stg_00079/teaching/I0U19a_conda_2024/bin/:$PATH\n",
    "    \n",
    "You can check if you have the correct kernel loaded by running:\n",
    "\n",
    "    which python\n",
    "    \n",
    "Which should yield `/lustre1/project/stg_00079/teaching/I0U19a_conda_2024/bin/python`\n",
    "\n",
    "\n",
    "**Jupyter**\n",
    "\n",
    "Ondemand settings (as used in class):\n",
    "\n",
    "* cluster: Wice\n",
    "* Account: lp_edu_large_omics\n",
    "* Partition: Batch\n",
    "* Number of hours: Duration of the exam +1hr\n",
    "* Number of cores: 1\n",
    "* Required memory per core: 3000 \n",
    "* Number of nodes: 1\n",
    "* Number of GPU's: 0\n",
    "\n",
    "Ensure you use the correct kernel for the jupyter work! You can confirm you have the correct kernel by running (in python):\n",
    "\n",
    "    import sys\n",
    "    sys.executable\n",
    "    \n",
    "Which should yield `/lustre1/project/stg_00079/teaching/I0U19a_conda_2024/bin/python`\n",
    "\n",
    "If not, please check the Toledo posts.\n",
    "\n",
    "---\n",
    "\n",
    "**After copying the data to your work folder, you will find a notebook called `exam_I0U19A_June_2024.ipynb` in the `$VSC_DATA/large_omics_exam_2024` folder - continue your work there.**\n",
    "\n",
    "---\n",
    "\n",
    "**Best of luck,**\n",
    "Mark\n",
    "\n",
    "---"
   ]
  },
  {
   "cell_type": "code",
   "execution_count": null,
   "id": "97e18936",
   "metadata": {
    "tags": []
   },
   "outputs": [],
   "source": [
    "# check your kernel\n",
    "import sys\n",
    "sys.executable"
   ]
  },
  {
   "cell_type": "markdown",
   "id": "9860440b",
   "metadata": {},
   "source": [
    "### Imports"
   ]
  },
  {
   "cell_type": "code",
   "execution_count": 1,
   "id": "ac27519f",
   "metadata": {
    "tags": []
   },
   "outputs": [],
   "source": [
    "import sqlite3\n",
    "import pandas as pd\n",
    "import matplotlib.pyplot as plt\n",
    "import seaborn as sns\n",
    "import vcfpy"
   ]
  },
  {
   "cell_type": "markdown",
   "id": "94bf96a2-8412-4b74-b1f6-30b96c6d9000",
   "metadata": {},
   "source": [
    "---\n",
    "\n",
    "# Question 1 - Snakemake\n",
    "\n",
    "In your exam folder you wil a snakemake folder containing the workflow definition (`snakemake/Snakefile`) and the tumor/control fastq data. This Snakefile is the same Snakefile we created during the course. The workflow has not been executed yet.\n",
    "\n",
    "The objective of this question is to expand the Snakemake file to further annotate the final snpEFF annotated VCF file using PhastCons conservation scores.\n",
    "\n",
    "snpEff as a tool is powerful - but only predicts coding effects. We are also potentially interested in non-coding SNPs. One method to identify potentially interesting non-coding SNPs is by looking at conservation. Regions that are evolutionary conserved are more likely to have a function. So non-coding SNPs in conserved regions are of more interest. We will be using [Phast/PhastCons](http://compgen.cshl.edu/phast/) to find such SNPs.\n",
    "\n",
    "I already downloaded the database (for chr9 only) and a file indicating genome sizes. These files can be found in `/staging/leuven/stg_00079/teaching/phastcons`. \n",
    "\n",
    "We will be using `snpEff`'s sister tool `snpSift` to annotate our vcf file with the `phastCons` scores. `snpSift` is installed in our conda environment. I already added the location of the jar file & the phastCons database to the Snakemake file.\n",
    "\n",
    "The goal of this exercise is to extend the Snakemake workflow to automatically annotate  our final vcf file (`snakemake/050.snpeff/snps.annotated.vcf`) with the PhastCons scores. Note, you must create a new rule, and this rule must be automatically executed when running Snakemake without specifying a target.\n",
    "\n",
    "**To prove you did this - please find and copy - from the resulting vcf file - the line containing the SNP on chromosome 9, position 129702113 in the cell below**"
   ]
  },
  {
   "cell_type": "markdown",
   "id": "6061bc92-d0e1-482e-ba00-6ace7448dd50",
   "metadata": {},
   "source": [
    "```\n",
    "**copy past the requested vcf line (from chr9, position 129702113) here**\n",
    "```"
   ]
  },
  {
   "cell_type": "markdown",
   "id": "4f4a96df-812c-42ed-813b-814409acbf4d",
   "metadata": {},
   "source": [
    "**Note**:\n",
    "\n",
    " * `snpSift` is available in our conda environment\n",
    " * The phastCons data is in `/lustre1/project/stg_00079/teaching/phastcons`\n",
    " * You must add at least **one new [rule](https://snakemake.readthedocs.io/en/stable/snakefiles/rules.html)** to the `Snakefile`.\n",
    " * Make sure the PhastCons annotated vcf file ends up in a dedicated subfolder.\n",
    " * Ensure the new rule(s) get executed automatically when running Snakemake without specifying a rule.\n",
    " * Make sure your new `Snakefile` is part of the Toledo assignment upload.\n",
    "\n",
    " ---"
   ]
  },
  {
   "cell_type": "markdown",
   "id": "932cd0d8",
   "metadata": {},
   "source": [
    "## Question 2 - Extending the SNP database\n",
    "\n",
    "You will find a reference notebook as we used in class (`ParseVCF.ipynb`) in this folder. The database it created `snps.sqlite` which also in the data folder.\n",
    "\n",
    "The goal is to include the phastCons scores from the VCF file into the database so that we can use this for visualizations.\n",
    "\n",
    "**Note:**\n",
    "\n",
    "* Please use the `ParseVCF.ipynb` notebook only for reference. Write all extra code you need below this cell.\n",
    "* Continue your work using the database included (`snps.sqlite`)\n",
    "* Create a **new** table with the phastcons scores (and snp identifier)\n",
    "* Make sure you sanity check your data. Are all scores between 0 and 1? Do all SNPs from the input file get a PhastCons score? What do you do with the SNPs that do not? Discuss your choices.\n",
    "* To be sure you are not dependent on the last exercise - I provide a vcf file with the phastCons scores called in `vcf_files/snps.phastcons.vcf`. For safety I also have the snpEff annotated vcf file available (`vcf_files/snps.annotated.vcf` - which you should not use to answer the question above!)\n",
    "* Test it worked by writing a SQL statement that shows all SNPs with a phastcons score indicating perfect conservation\n"
   ]
  },
  {
   "cell_type": "code",
   "execution_count": null,
   "id": "7f5a969f-efa4-4b51-902a-381edbc264ef",
   "metadata": {},
   "outputs": [],
   "source": []
  },
  {
   "cell_type": "code",
   "execution_count": null,
   "id": "9f8eec44-f4c4-4e16-b864-b63313f29c87",
   "metadata": {},
   "outputs": [],
   "source": []
  },
  {
   "cell_type": "code",
   "execution_count": null,
   "id": "ba721536-c3e2-465b-baf7-d6af21be9812",
   "metadata": {},
   "outputs": [],
   "source": []
  },
  {
   "cell_type": "markdown",
   "id": "cf4c9f3c",
   "metadata": {},
   "source": [
    "---\n",
    "\n",
    "## Question 3 - Visualization\n",
    "\n",
    "Given the the database you just generated - I would like you to investigate if you find tumor specific SNPs to be located in more conserved regions? Do we see a difference of Phastcons scores comparing SNPs present only in the tumor sample to to other SNPs.\n",
    "\n",
    "**Note:**\n",
    " * Argue why this might be biologically relevant. Would you only look at non coding SNPs?\n",
    " * Argue your process & thinking while exploring the data.\n",
    " * **Make a plot!** (you do not need to do statistics).\n",
    " * Make sure your plot is visible in this notebook prior to uploading it to Toledo.\n",
    " * **Discuss your interpretation of the plot, doublecheck your conclusions, if required adapt your visualization**\n",
    " * If you did not manage Question 2 you can request a copy of the database from me.\n"
   ]
  },
  {
   "cell_type": "code",
   "execution_count": null,
   "id": "0407ba51-21b7-4239-a743-3a378531f88f",
   "metadata": {},
   "outputs": [],
   "source": []
  },
  {
   "cell_type": "code",
   "execution_count": null,
   "id": "b41b3f35-6c1b-4856-8a15-fa3ad829356b",
   "metadata": {},
   "outputs": [],
   "source": []
  },
  {
   "cell_type": "code",
   "execution_count": null,
   "id": "77ac77a1-fced-46ba-98ec-0f0ccfcb3ace",
   "metadata": {},
   "outputs": [],
   "source": []
  },
  {
   "cell_type": "code",
   "execution_count": null,
   "id": "3e4b3e99-1ae6-4794-ac23-5be74e9ff2b9",
   "metadata": {},
   "outputs": [],
   "source": []
  }
 ],
 "metadata": {
  "kernelspec": {
   "display_name": "large_omics_2024",
   "language": "python",
   "name": "python3"
  },
  "language_info": {
   "codemirror_mode": {
    "name": "ipython",
    "version": 3
   },
   "file_extension": ".py",
   "mimetype": "text/x-python",
   "name": "python",
   "nbconvert_exporter": "python",
   "pygments_lexer": "ipython3",
   "version": "3.10.13"
  }
 },
 "nbformat": 4,
 "nbformat_minor": 5
}
