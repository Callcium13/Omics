{
 "cells": [
  {
   "cell_type": "markdown",
   "id": "92b30971-27cb-4acb-aaaf-2bbd818c125f",
   "metadata": {},
   "source": [
    "# Jupyter Bash test\n",
    "\n",
    "Study the [jupyter documentation](https://docs.jupyter.org/en/latest/) to get acquianted with jupyter! Note, on the VSC we are using [Jupyter Lab](https://jupyterlab.readthedocs.io/en/latest/). Please look around on the internet, there are many resources to help you get started."
   ]
  },
  {
   "cell_type": "code",
   "execution_count": 1,
   "id": "2187ab5b-b6bf-48bf-80ef-02e710b04b73",
   "metadata": {},
   "outputs": [],
   "source": [
    "# this is a safe way to activate a kernel on the VSC\n",
    "# you'll need to always do this for Bash sessions on jupyter (in this course!)\n",
    "\n",
    "export PATH=/lustre1/project/stg_00079/teaching/I0U19a_conda_2024/bin/:$PATH"
   ]
  },
  {
   "cell_type": "code",
   "execution_count": 2,
   "id": "e31ce2bd-6759-4444-9148-da66e0b1a1c7",
   "metadata": {},
   "outputs": [
    {
     "name": "stdout",
     "output_type": "stream",
     "text": [
      "/lustre1/project/stg_00079/teaching/I0U19a_conda_2024/bin/python\n"
     ]
    }
   ],
   "source": [
    "# to test we have the correct environment\n",
    "# this should yield:\n",
    "\n",
    "#     /lustre1/project/stg_00079/teaching/I0U19a_conda_2024/bin/python\n",
    "\n",
    "which python"
   ]
  },
  {
   "cell_type": "code",
   "execution_count": 3,
   "id": "83b01061-37f6-4a2d-81b4-657bc9a6cb6f",
   "metadata": {},
   "outputs": [
    {
     "name": "stdout",
     "output_type": "stream",
     "text": [
      "/vsc-hard-mounts/leuven-data/362/vsc36251/User\n"
     ]
    }
   ],
   "source": [
    "# this should give you the path to your vsc data folder:\n",
    "\n",
    "pwd"
   ]
  },
  {
   "cell_type": "code",
   "execution_count": 4,
   "id": "00a80d2b-e7fa-4ba2-9320-3a995a4a43e1",
   "metadata": {},
   "outputs": [
    {
     "name": "stdout",
     "output_type": "stream",
     "text": [
      "\n",
      "Program: bwa (alignment via Burrows-Wheeler transformation)\n",
      "Version: 0.7.17-r1188\n",
      "Contact: Heng Li <lh3@sanger.ac.uk>\n",
      "\n",
      "Usage:   bwa <command> [options]\n",
      "\n",
      "Command: index         index sequences in the FASTA format\n",
      "         mem           BWA-MEM algorithm\n",
      "         fastmap       identify super-maximal exact matches\n",
      "         pemerge       merge overlapping paired ends (EXPERIMENTAL)\n",
      "         aln           gapped/ungapped alignment\n",
      "         samse         generate alignment (single ended)\n",
      "         sampe         generate alignment (paired ended)\n",
      "         bwasw         BWA-SW for long queries\n",
      "\n",
      "         shm           manage indices in shared memory\n",
      "         fa2pac        convert FASTA to PAC format\n",
      "         pac2bwt       generate BWT from PAC\n",
      "         pac2bwtgen    alternative algorithm for generating BWT\n",
      "         bwtupdate     update .bwt to the new format\n",
      "         bwt2sa        generate SA from BWT and Occ\n",
      "\n",
      "Note: To use BWA, you need to first index the genome with `bwa index'.\n",
      "      There are three alignment algorithms in BWA: `mem', `bwasw', and\n",
      "      `aln/samse/sampe'. If you are not sure which to use, try `bwa mem'\n",
      "      first. Please `man ./bwa.1' for the manual.\n",
      "\n"
     ]
    },
    {
     "ename": "",
     "evalue": "1",
     "output_type": "error",
     "traceback": []
    }
   ],
   "source": [
    "# this is a tool we will use later on in the course. We run it now also as a test.\n",
    "\n",
    "# just running the tool should give you a help page:\n",
    "# starting with:\n",
    "#\n",
    "#       Program: bwa (alignment via Burrows-Wheeler transformation)\n",
    "#       Version: 0.7.17-r1188\n",
    "#       Contact: Heng Li <lh3@sanger.ac.uk>\n",
    "#       \n",
    "\n",
    "bwa"
   ]
  },
  {
   "cell_type": "code",
   "execution_count": null,
   "id": "8969b135-ca4f-419c-b0fe-535c9a66ae2d",
   "metadata": {},
   "outputs": [],
   "source": []
  }
 ],
 "metadata": {
  "kernelspec": {
   "display_name": "Bash",
   "language": "bash",
   "name": "bash"
  },
  "language_info": {
   "codemirror_mode": "shell",
   "file_extension": ".sh",
   "mimetype": "text/x-sh",
   "name": "bash"
  }
 },
 "nbformat": 4,
 "nbformat_minor": 5
}
